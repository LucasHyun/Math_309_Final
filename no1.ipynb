{
 "cells": [
  {
   "cell_type": "code",
   "execution_count": null,
   "metadata": {},
   "outputs": [],
   "source": [
    "#plot3 to plot the curve.(Find the corresponding python built-in function to plot the curve.)\n",
    "#Consider the Lorenz system with coefficients σ = 10, ρ = 28, and β = 8/3. Use the initial condition (1, 1, 1) and plot the curve for t ∈ [0, 100].\n",
    "\n",
    "#Solve the problem using the Runge-Kutta 2 method with h = 0.01. Plot the curve using the corresponding python builit-in function.\n",
    "import numpy as np\n",
    "import matplotlib.pyplot as plt\n",
    "from scipy.integrate import odeint\n",
    "def lorenz(w, t, sigma, rho, beta):\n",
    "    x, y, z = w\n",
    "    return np.array([sigma*(y-x), x*(rho-z)-y, x*y-beta*z])\n",
    "t = np.arange(0, 100, 0.01)\n",
    "\n"
   ]
  }
 ],
 "metadata": {
  "language_info": {
   "name": "python"
  }
 },
 "nbformat": 4,
 "nbformat_minor": 2
}
